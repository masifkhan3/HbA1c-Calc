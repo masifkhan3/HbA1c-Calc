{
  "nbformat": 4,
  "nbformat_minor": 0,
  "metadata": {
    "colab": {
      "provenance": [],
      "gpuType": "T4",
      "authorship_tag": "ABX9TyMNNSsq013hvUqV/StehBZa",
      "include_colab_link": true
    },
    "kernelspec": {
      "name": "python3",
      "display_name": "Python 3"
    },
    "language_info": {
      "name": "python"
    },
    "accelerator": "GPU"
  },
  "cells": [
    {
      "cell_type": "markdown",
      "metadata": {
        "id": "view-in-github",
        "colab_type": "text"
      },
      "source": [
        "<a href=\"https://colab.research.google.com/github/masifkhan3/HbA1c-Calc/blob/main/Hb1AC.ipynb\" target=\"_parent\"><img src=\"https://colab.research.google.com/assets/colab-badge.svg\" alt=\"Open In Colab\"/></a>"
      ]
    },
    {
      "cell_type": "code",
      "source": [
        "def assess_blood_glucose(glucose_level):\n",
        "    \"\"\"\n",
        "    Assess the blood glucose level and categorize it as normal, hyperglycemia, or hypoglycemia.\n",
        "\n",
        "    Parameters:\n",
        "    glucose_level (float): The blood glucose level in mg/dL.\n",
        "\n",
        "    Returns:\n",
        "    str: Assessment result and recommendations.\n",
        "    \"\"\"\n",
        "    if glucose_level < 70:\n",
        "        return (\"Hypoglycemia: Your blood glucose level is low. \"\n",
        "                \"Eat or drink something with sugar immediately (e.g., juice, candy). \"\n",
        "                \"If symptoms persist, consider using a glucagon injection if prescribed.\")\n",
        "    elif 70 <= glucose_level < 126:\n",
        "        return (\"Normal: Your blood glucose level is within the normal range. \"\n",
        "                \"Diet: Maintain a balanced diet rich in fruits, vegetables, whole grains, and lean proteins. \"\n",
        "                \"Limit sugar and refined carbs.\")\n",
        "    elif 126 <= glucose_level < 200:\n",
        "        return (\"Hyperglycemia: Your blood glucose level is elevated. \"\n",
        "                \"Consider focusing on a low-carb diet and consulting your healthcare provider. \"\n",
        "                \"If your blood sugar remains high, your doctor may recommend medication such as metformin or insulin.\")\n",
        "    else:\n",
        "        return (\"Severe Hyperglycemia: Your blood glucose level is very high. \"\n",
        "                \"Seek medical attention immediately. \"\n",
        "                \"Consult a healthcare professional about the need for insulin or other emergency medications.\")\n",
        "\n",
        "def calculate_hba1c(average_glucose):\n",
        "    \"\"\"\n",
        "    Calculate HbA1c based on the average blood glucose level.\n",
        "\n",
        "    Parameters:\n",
        "    average_glucose (float): The average blood glucose level in mg/dL.\n",
        "\n",
        "    Returns:\n",
        "    float: Estimated HbA1c percentage.\n",
        "    \"\"\"\n",
        "    hba1c = (average_glucose + 46.7) / 28.7\n",
        "    return hba1c\n",
        "\n",
        "# User Input Section\n",
        "user_name = input(\"Hello! What is your name? \")\n",
        "print(f\"Welcome, {user_name}!\")\n",
        "\n",
        "# Asking for the patient's age\n",
        "while True:\n",
        "    try:\n",
        "        age = int(input(\"Please enter your age: \"))\n",
        "        if age < 0:\n",
        "            print(\"Age cannot be negative. Please enter a valid age.\")\n",
        "            continue\n",
        "        break  # Exit loop if input is valid\n",
        "    except ValueError:\n",
        "        print(\"Please enter a valid number for age.\")\n",
        "\n",
        "# Input for blood glucose level with validation\n",
        "while True:\n",
        "    try:\n",
        "        glucose_input = float(input(\"Enter your current blood glucose level (mg/dL): \"))\n",
        "        break  # Exit loop if input is valid\n",
        "    except ValueError:\n",
        "        print(\"Please enter a valid number for the blood glucose level.\")\n",
        "\n",
        "assessment = assess_blood_glucose(glucose_input)\n",
        "print(assessment)\n",
        "\n",
        "# Asking for average blood glucose to calculate HbA1c with validation\n",
        "while True:\n",
        "    try:\n",
        "        average_glucose = float(input(\"Enter your average blood glucose level (mg/dL) to calculate HbA1c: \"))\n",
        "        break  # Exit loop if input is valid\n",
        "    except ValueError:\n",
        "        print(\"Please enter a valid number for the average blood glucose level.\")\n",
        "\n",
        "hba1c_result = calculate_hba1c(average_glucose)\n",
        "print(f\"Your estimated HbA1c is {hba1c_result:.2f}%.\")\n",
        "print(f\"Age: {age} years\")\n",
        "\n",
        "print(f\"Thank you for using the blood glucose and HbA1c assessment tool, {user_name}. Stay healthy!\")\n"
      ],
      "metadata": {
        "colab": {
          "base_uri": "https://localhost:8080/"
        },
        "id": "N_AAP2UB5LGy",
        "outputId": "ab7f3219-98d5-46c5-f90a-14384692dd8a"
      },
      "execution_count": 15,
      "outputs": [
        {
          "output_type": "stream",
          "name": "stdout",
          "text": [
            "Hello! What is your name? asif\n",
            "Welcome, asif!\n",
            "Please enter your age: 38\n",
            "Enter your current blood glucose level (mg/dL): 120\n",
            "Normal: Your blood glucose level is within the normal range. Diet: Maintain a balanced diet rich in fruits, vegetables, whole grains, and lean proteins. Limit sugar and refined carbs.\n",
            "Enter your average blood glucose level (mg/dL) to calculate HbA1c: 100\n",
            "Your estimated HbA1c is 5.11%.\n",
            "Age: 38 years\n",
            "Thank you for using the blood glucose and HbA1c assessment tool, asif. Stay healthy!\n"
          ]
        }
      ]
    },
    {
      "cell_type": "markdown",
      "source": [],
      "metadata": {
        "id": "TJU_ovIa4cvL"
      }
    }
  ]
}